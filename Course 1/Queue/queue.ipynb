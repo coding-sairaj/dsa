{
 "cells": [
  {
   "cell_type": "code",
   "execution_count": 30,
   "source": [
    "from collections import deque\n",
    "import threading\n",
    "import time\n",
    "\n",
    "class Queue:\n",
    "    def __init__(self):\n",
    "        self.buffer= deque()\n",
    "\n",
    "    def enqueue(self, val):\n",
    "        self.buffer.appendleft(val)\n",
    "\n",
    "    def dequeue(self):\n",
    "        if self.is_empty():\n",
    "            print(\"Queueue is empty\")\n",
    "        return self.buffer.pop()\n",
    "    \n",
    "    def is_empty(self):\n",
    "        return len(self.buffer) == 0\n",
    "\n",
    "    def size(self):\n",
    "        return len(self.buffer)\n",
    "    \n",
    "    def front(self):\n",
    "        return self.buffer[-1]\n",
    "\n"
   ],
   "outputs": [],
   "metadata": {}
  },
  {
   "cell_type": "markdown",
   "source": [
    "## Design a food ordering system where your python program will run two threads"
   ],
   "metadata": {}
  },
  {
   "cell_type": "code",
   "execution_count": 23,
   "source": [
    "def placeOrder(q, order):\n",
    "    for item in order:\n",
    "        print(f\"Placing order: \", item)\n",
    "        q.enqueue(item)\n",
    "        time.sleep(0.5)\n",
    "\n",
    "def serveOrder(q):\n",
    "    while q.size() > 0:        \n",
    "        print(f\"Serving order: \", q.dequeue())\n",
    "        time.sleep(2)\n"
   ],
   "outputs": [],
   "metadata": {}
  },
  {
   "cell_type": "code",
   "execution_count": null,
   "source": [
    "q = Queue()\n",
    "orders = ['pizza','samosa','pasta','biryani','burger']\n",
    "t1 = threading.Thread(target=placeOrder,args=(q,orders))\n",
    "t2 = threading.Thread(target=serveOrder, args=(q,))\n",
    "\n",
    "t1.start()\n",
    "t2.start()\n",
    "\n",
    "t1.join()\n",
    "t2.join()\n"
   ],
   "outputs": [],
   "metadata": {}
  },
  {
   "cell_type": "code",
   "execution_count": 31,
   "source": [
    "def printBinaryNumbers(n):\n",
    "    q = Queue()\n",
    "    q.enqueue(\"1\")\n",
    "\n",
    "    for i in range(n):\n",
    "        front = q.front()\n",
    "        print(\"     \", front)\n",
    "\n",
    "        q.enqueue(front + \"0\")\n",
    "        q.enqueue(front + \"1\")\n",
    "\n",
    "        q.dequeue()\n",
    "\n",
    "    "
   ],
   "outputs": [],
   "metadata": {}
  },
  {
   "cell_type": "code",
   "execution_count": 32,
   "source": [
    "printBinaryNumbers(10)"
   ],
   "outputs": [
    {
     "output_type": "stream",
     "name": "stdout",
     "text": [
      "      1\n",
      "      10\n",
      "      11\n",
      "      100\n",
      "      101\n",
      "      110\n",
      "      111\n",
      "      1000\n",
      "      1001\n",
      "      1010\n"
     ]
    }
   ],
   "metadata": {}
  }
 ],
 "metadata": {
  "orig_nbformat": 4,
  "language_info": {
   "name": "python",
   "version": "3.9.7",
   "mimetype": "text/x-python",
   "codemirror_mode": {
    "name": "ipython",
    "version": 3
   },
   "pygments_lexer": "ipython3",
   "nbconvert_exporter": "python",
   "file_extension": ".py"
  },
  "kernelspec": {
   "name": "python3",
   "display_name": "Python 3.9.7 64-bit"
  },
  "interpreter": {
   "hash": "aee8b7b246df8f9039afb4144a1f6fd8d2ca17a180786b69acc140d282b71a49"
  }
 },
 "nbformat": 4,
 "nbformat_minor": 2
}